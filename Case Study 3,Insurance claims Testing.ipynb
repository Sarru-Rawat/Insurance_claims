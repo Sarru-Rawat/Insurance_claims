{
 "cells": [
  {
   "cell_type": "code",
   "execution_count": 2,
   "id": "4999a7b6",
   "metadata": {},
   "outputs": [],
   "source": [
    "import pandas as pd\n",
    "import numpy as np"
   ]
  },
  {
   "cell_type": "code",
   "execution_count": 60,
   "id": "8ef9194e",
   "metadata": {},
   "outputs": [],
   "source": [
    "cust_data=pd.read_csv(\"C:\\\\Users\\\\d\\\\OneDrive\\\\Desktop\\\\Python Study Material\\\\Case studies\\\\case study 3\\\\cust_demographics.csv\")\n",
    "claim_data=pd.read_csv(\"C:\\\\Users\\\\d\\\\OneDrive\\\\Desktop\\\\Python Study Material\\\\Case studies\\\\case study 3\\\\claims.csv\")"
   ]
  },
  {
   "cell_type": "code",
   "execution_count": 61,
   "id": "9b824f04",
   "metadata": {},
   "outputs": [],
   "source": [
    "final_data=pd.merge(left=cust_data,right=claim_data,left_on='CUST_ID',right_on='customer_id',how='outer')"
   ]
  },
  {
   "cell_type": "code",
   "execution_count": 10,
   "id": "b94ef049",
   "metadata": {},
   "outputs": [
    {
     "data": {
      "text/html": [
       "<div>\n",
       "<style scoped>\n",
       "    .dataframe tbody tr th:only-of-type {\n",
       "        vertical-align: middle;\n",
       "    }\n",
       "\n",
       "    .dataframe tbody tr th {\n",
       "        vertical-align: top;\n",
       "    }\n",
       "\n",
       "    .dataframe thead th {\n",
       "        text-align: right;\n",
       "    }\n",
       "</style>\n",
       "<table border=\"1\" class=\"dataframe\">\n",
       "  <thead>\n",
       "    <tr style=\"text-align: right;\">\n",
       "      <th></th>\n",
       "      <th>CUST_ID</th>\n",
       "      <th>gender</th>\n",
       "      <th>DateOfBirth</th>\n",
       "      <th>State</th>\n",
       "      <th>Contact</th>\n",
       "      <th>Segment</th>\n",
       "      <th>claim_id</th>\n",
       "      <th>customer_id</th>\n",
       "      <th>incident_cause</th>\n",
       "      <th>claim_date</th>\n",
       "      <th>claim_area</th>\n",
       "      <th>police_report</th>\n",
       "      <th>claim_type</th>\n",
       "      <th>claim_amount</th>\n",
       "      <th>total_policy_claims</th>\n",
       "      <th>fraudulent</th>\n",
       "    </tr>\n",
       "  </thead>\n",
       "  <tbody>\n",
       "    <tr>\n",
       "      <th>0</th>\n",
       "      <td>21868593.0</td>\n",
       "      <td>Female</td>\n",
       "      <td>12-Jan-79</td>\n",
       "      <td>VT</td>\n",
       "      <td>789-916-8172</td>\n",
       "      <td>Platinum</td>\n",
       "      <td>54004764.0</td>\n",
       "      <td>21868593.0</td>\n",
       "      <td>Driver error</td>\n",
       "      <td>11/27/2017</td>\n",
       "      <td>Auto</td>\n",
       "      <td>No</td>\n",
       "      <td>Material only</td>\n",
       "      <td>$2980</td>\n",
       "      <td>1.0</td>\n",
       "      <td>No</td>\n",
       "    </tr>\n",
       "    <tr>\n",
       "      <th>1</th>\n",
       "      <td>75740424.0</td>\n",
       "      <td>Female</td>\n",
       "      <td>13-Jan-70</td>\n",
       "      <td>ME</td>\n",
       "      <td>265-543-1264</td>\n",
       "      <td>Silver</td>\n",
       "      <td>33985796.0</td>\n",
       "      <td>75740424.0</td>\n",
       "      <td>Crime</td>\n",
       "      <td>10/03/2018</td>\n",
       "      <td>Home</td>\n",
       "      <td>Unknown</td>\n",
       "      <td>Material only</td>\n",
       "      <td>$2980</td>\n",
       "      <td>3.0</td>\n",
       "      <td>No</td>\n",
       "    </tr>\n",
       "    <tr>\n",
       "      <th>2</th>\n",
       "      <td>30308357.0</td>\n",
       "      <td>Female</td>\n",
       "      <td>11-Mar-84</td>\n",
       "      <td>TN</td>\n",
       "      <td>798-631-4758</td>\n",
       "      <td>Silver</td>\n",
       "      <td>53522022.0</td>\n",
       "      <td>30308357.0</td>\n",
       "      <td>Other driver error</td>\n",
       "      <td>02/02/2018</td>\n",
       "      <td>Auto</td>\n",
       "      <td>No</td>\n",
       "      <td>Material only</td>\n",
       "      <td>$3369.5</td>\n",
       "      <td>1.0</td>\n",
       "      <td>Yes</td>\n",
       "    </tr>\n",
       "    <tr>\n",
       "      <th>3</th>\n",
       "      <td>30308357.0</td>\n",
       "      <td>Female</td>\n",
       "      <td>11-Mar-84</td>\n",
       "      <td>TN</td>\n",
       "      <td>798-631-4758</td>\n",
       "      <td>Silver</td>\n",
       "      <td>63017412.0</td>\n",
       "      <td>30308357.0</td>\n",
       "      <td>Driver error</td>\n",
       "      <td>04/04/2018</td>\n",
       "      <td>Auto</td>\n",
       "      <td>No</td>\n",
       "      <td>Material only</td>\n",
       "      <td>$1950</td>\n",
       "      <td>6.0</td>\n",
       "      <td>No</td>\n",
       "    </tr>\n",
       "    <tr>\n",
       "      <th>4</th>\n",
       "      <td>47830476.0</td>\n",
       "      <td>Female</td>\n",
       "      <td>01-May-86</td>\n",
       "      <td>MA</td>\n",
       "      <td>413-187-7945</td>\n",
       "      <td>Silver</td>\n",
       "      <td>13015401.0</td>\n",
       "      <td>47830476.0</td>\n",
       "      <td>Natural causes</td>\n",
       "      <td>06/17/2018</td>\n",
       "      <td>Auto</td>\n",
       "      <td>No</td>\n",
       "      <td>Material only</td>\n",
       "      <td>$1680</td>\n",
       "      <td>1.0</td>\n",
       "      <td>No</td>\n",
       "    </tr>\n",
       "  </tbody>\n",
       "</table>\n",
       "</div>"
      ],
      "text/plain": [
       "      CUST_ID  gender DateOfBirth State       Contact   Segment    claim_id  \\\n",
       "0  21868593.0  Female   12-Jan-79    VT  789-916-8172  Platinum  54004764.0   \n",
       "1  75740424.0  Female   13-Jan-70    ME  265-543-1264    Silver  33985796.0   \n",
       "2  30308357.0  Female   11-Mar-84    TN  798-631-4758    Silver  53522022.0   \n",
       "3  30308357.0  Female   11-Mar-84    TN  798-631-4758    Silver  63017412.0   \n",
       "4  47830476.0  Female   01-May-86    MA  413-187-7945    Silver  13015401.0   \n",
       "\n",
       "   customer_id      incident_cause  claim_date claim_area police_report  \\\n",
       "0   21868593.0        Driver error  11/27/2017       Auto            No   \n",
       "1   75740424.0               Crime  10/03/2018       Home       Unknown   \n",
       "2   30308357.0  Other driver error  02/02/2018       Auto            No   \n",
       "3   30308357.0        Driver error  04/04/2018       Auto            No   \n",
       "4   47830476.0      Natural causes  06/17/2018       Auto            No   \n",
       "\n",
       "      claim_type claim_amount  total_policy_claims fraudulent  \n",
       "0  Material only        $2980                  1.0         No  \n",
       "1  Material only        $2980                  3.0         No  \n",
       "2  Material only      $3369.5                  1.0        Yes  \n",
       "3  Material only        $1950                  6.0         No  \n",
       "4  Material only        $1680                  1.0         No  "
      ]
     },
     "execution_count": 10,
     "metadata": {},
     "output_type": "execute_result"
    }
   ],
   "source": [
    "final_data.head()"
   ]
  },
  {
   "cell_type": "code",
   "execution_count": 149,
   "id": "27d4ede7",
   "metadata": {},
   "outputs": [
    {
     "name": "stdout",
     "output_type": "stream",
     "text": [
      "<class 'pandas.core.frame.DataFrame'>\n",
      "Int64Index: 1107 entries, 0 to 1106\n",
      "Data columns (total 16 columns):\n",
      " #   Column               Non-Null Count  Dtype  \n",
      "---  ------               --------------  -----  \n",
      " 0   CUST_ID              1092 non-null   float64\n",
      " 1   gender               1092 non-null   object \n",
      " 2   DateOfBirth          1092 non-null   object \n",
      " 3   State                1092 non-null   object \n",
      " 4   Contact              1092 non-null   object \n",
      " 5   Segment              1092 non-null   object \n",
      " 6   claim_id             1100 non-null   float64\n",
      " 7   customer_id          1100 non-null   float64\n",
      " 8   incident_cause       1100 non-null   object \n",
      " 9   claim_date           1100 non-null   object \n",
      " 10  claim_area           1100 non-null   object \n",
      " 11  police_report        1100 non-null   object \n",
      " 12  claim_type           1100 non-null   object \n",
      " 13  claim_amount         1035 non-null   object \n",
      " 14  total_policy_claims  1090 non-null   float64\n",
      " 15  fraudulent           1100 non-null   object \n",
      "dtypes: float64(4), object(12)\n",
      "memory usage: 147.0+ KB\n"
     ]
    }
   ],
   "source": [
    "final_data.info()"
   ]
  },
  {
   "cell_type": "code",
   "execution_count": 64,
   "id": "95a60c65",
   "metadata": {},
   "outputs": [
    {
     "name": "stderr",
     "output_type": "stream",
     "text": [
      "C:\\Users\\d\\AppData\\Local\\Temp\\ipykernel_25764\\4102113427.py:3: FutureWarning: The default value of regex will change from True to False in a future version. In addition, single character regular expressions will *not* be treated as literal strings when regex=True.\n",
      "  final_data['claim_amount']=final_data.claim_amount.str.replace('$','').astype('float')\n"
     ]
    }
   ],
   "source": [
    "final_data['DateOfBirth']=pd.to_datetime(final_data.DateOfBirth,format='%d-%b-%y')\n",
    "final_data['claim_date']=pd.to_datetime(final_data.claim_date,format='%m/%d/%Y')\n",
    "final_data['claim_amount']=final_data.claim_amount.str.replace('$','').astype('float')"
   ]
  },
  {
   "cell_type": "code",
   "execution_count": 173,
   "id": "d95f2432",
   "metadata": {},
   "outputs": [
    {
     "name": "stdout",
     "output_type": "stream",
     "text": [
      "<class 'pandas.core.frame.DataFrame'>\n",
      "Int64Index: 1101 entries, 0 to 1106\n",
      "Data columns (total 16 columns):\n",
      " #   Column               Non-Null Count  Dtype         \n",
      "---  ------               --------------  -----         \n",
      " 0   gender               1086 non-null   object        \n",
      " 1   DateOfBirth          1086 non-null   datetime64[ns]\n",
      " 2   State                1086 non-null   object        \n",
      " 3   Contact              1086 non-null   object        \n",
      " 4   Segment              1086 non-null   object        \n",
      " 5   claim_id             1100 non-null   float64       \n",
      " 6   customer_id          1100 non-null   float64       \n",
      " 7   incident_cause       1100 non-null   object        \n",
      " 8   claim_date           1086 non-null   datetime64[ns]\n",
      " 9   claim_area           1100 non-null   object        \n",
      " 10  police_report        1100 non-null   object        \n",
      " 11  claim_type           1100 non-null   object        \n",
      " 12  claim_amount         1035 non-null   float64       \n",
      " 13  total_policy_claims  1090 non-null   float64       \n",
      " 14  fraudulent           1100 non-null   object        \n",
      " 15  flag                 131 non-null    float64       \n",
      "dtypes: datetime64[ns](2), float64(5), object(9)\n",
      "memory usage: 146.2+ KB\n"
     ]
    }
   ],
   "source": [
    "final_data.info()"
   ]
  },
  {
   "cell_type": "code",
   "execution_count": 62,
   "id": "a0a216a4",
   "metadata": {},
   "outputs": [
    {
     "data": {
      "text/html": [
       "<div>\n",
       "<style scoped>\n",
       "    .dataframe tbody tr th:only-of-type {\n",
       "        vertical-align: middle;\n",
       "    }\n",
       "\n",
       "    .dataframe tbody tr th {\n",
       "        vertical-align: top;\n",
       "    }\n",
       "\n",
       "    .dataframe thead th {\n",
       "        text-align: right;\n",
       "    }\n",
       "</style>\n",
       "<table border=\"1\" class=\"dataframe\">\n",
       "  <thead>\n",
       "    <tr style=\"text-align: right;\">\n",
       "      <th></th>\n",
       "      <th>CUST_ID</th>\n",
       "      <th>gender</th>\n",
       "      <th>DateOfBirth</th>\n",
       "      <th>State</th>\n",
       "      <th>Contact</th>\n",
       "      <th>Segment</th>\n",
       "      <th>claim_id</th>\n",
       "      <th>customer_id</th>\n",
       "      <th>incident_cause</th>\n",
       "      <th>claim_date</th>\n",
       "      <th>claim_area</th>\n",
       "      <th>police_report</th>\n",
       "      <th>claim_type</th>\n",
       "      <th>claim_amount</th>\n",
       "      <th>total_policy_claims</th>\n",
       "      <th>fraudulent</th>\n",
       "    </tr>\n",
       "  </thead>\n",
       "  <tbody>\n",
       "    <tr>\n",
       "      <th>0</th>\n",
       "      <td>21868593.0</td>\n",
       "      <td>Female</td>\n",
       "      <td>12-Jan-79</td>\n",
       "      <td>VT</td>\n",
       "      <td>789-916-8172</td>\n",
       "      <td>Platinum</td>\n",
       "      <td>54004764.0</td>\n",
       "      <td>21868593.0</td>\n",
       "      <td>Driver error</td>\n",
       "      <td>11/27/2017</td>\n",
       "      <td>Auto</td>\n",
       "      <td>No</td>\n",
       "      <td>Material only</td>\n",
       "      <td>$2980</td>\n",
       "      <td>1.0</td>\n",
       "      <td>No</td>\n",
       "    </tr>\n",
       "    <tr>\n",
       "      <th>1</th>\n",
       "      <td>75740424.0</td>\n",
       "      <td>Female</td>\n",
       "      <td>13-Jan-70</td>\n",
       "      <td>ME</td>\n",
       "      <td>265-543-1264</td>\n",
       "      <td>Silver</td>\n",
       "      <td>33985796.0</td>\n",
       "      <td>75740424.0</td>\n",
       "      <td>Crime</td>\n",
       "      <td>10/03/2018</td>\n",
       "      <td>Home</td>\n",
       "      <td>Unknown</td>\n",
       "      <td>Material only</td>\n",
       "      <td>$2980</td>\n",
       "      <td>3.0</td>\n",
       "      <td>No</td>\n",
       "    </tr>\n",
       "    <tr>\n",
       "      <th>2</th>\n",
       "      <td>30308357.0</td>\n",
       "      <td>Female</td>\n",
       "      <td>11-Mar-84</td>\n",
       "      <td>TN</td>\n",
       "      <td>798-631-4758</td>\n",
       "      <td>Silver</td>\n",
       "      <td>53522022.0</td>\n",
       "      <td>30308357.0</td>\n",
       "      <td>Other driver error</td>\n",
       "      <td>02/02/2018</td>\n",
       "      <td>Auto</td>\n",
       "      <td>No</td>\n",
       "      <td>Material only</td>\n",
       "      <td>$3369.5</td>\n",
       "      <td>1.0</td>\n",
       "      <td>Yes</td>\n",
       "    </tr>\n",
       "    <tr>\n",
       "      <th>3</th>\n",
       "      <td>30308357.0</td>\n",
       "      <td>Female</td>\n",
       "      <td>11-Mar-84</td>\n",
       "      <td>TN</td>\n",
       "      <td>798-631-4758</td>\n",
       "      <td>Silver</td>\n",
       "      <td>63017412.0</td>\n",
       "      <td>30308357.0</td>\n",
       "      <td>Driver error</td>\n",
       "      <td>04/04/2018</td>\n",
       "      <td>Auto</td>\n",
       "      <td>No</td>\n",
       "      <td>Material only</td>\n",
       "      <td>$1950</td>\n",
       "      <td>6.0</td>\n",
       "      <td>No</td>\n",
       "    </tr>\n",
       "    <tr>\n",
       "      <th>4</th>\n",
       "      <td>47830476.0</td>\n",
       "      <td>Female</td>\n",
       "      <td>01-May-86</td>\n",
       "      <td>MA</td>\n",
       "      <td>413-187-7945</td>\n",
       "      <td>Silver</td>\n",
       "      <td>13015401.0</td>\n",
       "      <td>47830476.0</td>\n",
       "      <td>Natural causes</td>\n",
       "      <td>06/17/2018</td>\n",
       "      <td>Auto</td>\n",
       "      <td>No</td>\n",
       "      <td>Material only</td>\n",
       "      <td>$1680</td>\n",
       "      <td>1.0</td>\n",
       "      <td>No</td>\n",
       "    </tr>\n",
       "    <tr>\n",
       "      <th>...</th>\n",
       "      <td>...</td>\n",
       "      <td>...</td>\n",
       "      <td>...</td>\n",
       "      <td>...</td>\n",
       "      <td>...</td>\n",
       "      <td>...</td>\n",
       "      <td>...</td>\n",
       "      <td>...</td>\n",
       "      <td>...</td>\n",
       "      <td>...</td>\n",
       "      <td>...</td>\n",
       "      <td>...</td>\n",
       "      <td>...</td>\n",
       "      <td>...</td>\n",
       "      <td>...</td>\n",
       "      <td>...</td>\n",
       "    </tr>\n",
       "    <tr>\n",
       "      <th>1102</th>\n",
       "      <td>NaN</td>\n",
       "      <td>NaN</td>\n",
       "      <td>NaN</td>\n",
       "      <td>NaN</td>\n",
       "      <td>NaN</td>\n",
       "      <td>NaN</td>\n",
       "      <td>97727122.0</td>\n",
       "      <td>35951012.0</td>\n",
       "      <td>Other driver error</td>\n",
       "      <td>06/11/2017</td>\n",
       "      <td>Auto</td>\n",
       "      <td>No</td>\n",
       "      <td>Material only</td>\n",
       "      <td>$3059</td>\n",
       "      <td>4.0</td>\n",
       "      <td>Yes</td>\n",
       "    </tr>\n",
       "    <tr>\n",
       "      <th>1103</th>\n",
       "      <td>NaN</td>\n",
       "      <td>NaN</td>\n",
       "      <td>NaN</td>\n",
       "      <td>NaN</td>\n",
       "      <td>NaN</td>\n",
       "      <td>NaN</td>\n",
       "      <td>10247193.0</td>\n",
       "      <td>14818669.0</td>\n",
       "      <td>Natural causes</td>\n",
       "      <td>03/14/2018</td>\n",
       "      <td>Auto</td>\n",
       "      <td>No</td>\n",
       "      <td>Material only</td>\n",
       "      <td>$1520</td>\n",
       "      <td>2.0</td>\n",
       "      <td>No</td>\n",
       "    </tr>\n",
       "    <tr>\n",
       "      <th>1104</th>\n",
       "      <td>NaN</td>\n",
       "      <td>NaN</td>\n",
       "      <td>NaN</td>\n",
       "      <td>NaN</td>\n",
       "      <td>NaN</td>\n",
       "      <td>NaN</td>\n",
       "      <td>79807493.0</td>\n",
       "      <td>85322831.0</td>\n",
       "      <td>Other driver error</td>\n",
       "      <td>02/09/2018</td>\n",
       "      <td>Auto</td>\n",
       "      <td>No</td>\n",
       "      <td>Material and injury</td>\n",
       "      <td>$23575</td>\n",
       "      <td>2.0</td>\n",
       "      <td>Yes</td>\n",
       "    </tr>\n",
       "    <tr>\n",
       "      <th>1105</th>\n",
       "      <td>NaN</td>\n",
       "      <td>NaN</td>\n",
       "      <td>NaN</td>\n",
       "      <td>NaN</td>\n",
       "      <td>NaN</td>\n",
       "      <td>NaN</td>\n",
       "      <td>69299345.0</td>\n",
       "      <td>73449366.0</td>\n",
       "      <td>Other causes</td>\n",
       "      <td>03/21/2018</td>\n",
       "      <td>Auto</td>\n",
       "      <td>Unknown</td>\n",
       "      <td>Material and injury</td>\n",
       "      <td>$25120</td>\n",
       "      <td>1.0</td>\n",
       "      <td>No</td>\n",
       "    </tr>\n",
       "    <tr>\n",
       "      <th>1106</th>\n",
       "      <td>NaN</td>\n",
       "      <td>NaN</td>\n",
       "      <td>NaN</td>\n",
       "      <td>NaN</td>\n",
       "      <td>NaN</td>\n",
       "      <td>NaN</td>\n",
       "      <td>58809728.0</td>\n",
       "      <td>43020876.0</td>\n",
       "      <td>Other driver error</td>\n",
       "      <td>06/04/2017</td>\n",
       "      <td>Auto</td>\n",
       "      <td>Yes</td>\n",
       "      <td>Material and injury</td>\n",
       "      <td>$36685</td>\n",
       "      <td>3.0</td>\n",
       "      <td>Yes</td>\n",
       "    </tr>\n",
       "  </tbody>\n",
       "</table>\n",
       "<p>1107 rows × 16 columns</p>\n",
       "</div>"
      ],
      "text/plain": [
       "         CUST_ID  gender DateOfBirth State       Contact   Segment  \\\n",
       "0     21868593.0  Female   12-Jan-79    VT  789-916-8172  Platinum   \n",
       "1     75740424.0  Female   13-Jan-70    ME  265-543-1264    Silver   \n",
       "2     30308357.0  Female   11-Mar-84    TN  798-631-4758    Silver   \n",
       "3     30308357.0  Female   11-Mar-84    TN  798-631-4758    Silver   \n",
       "4     47830476.0  Female   01-May-86    MA  413-187-7945    Silver   \n",
       "...          ...     ...         ...   ...           ...       ...   \n",
       "1102         NaN     NaN         NaN   NaN           NaN       NaN   \n",
       "1103         NaN     NaN         NaN   NaN           NaN       NaN   \n",
       "1104         NaN     NaN         NaN   NaN           NaN       NaN   \n",
       "1105         NaN     NaN         NaN   NaN           NaN       NaN   \n",
       "1106         NaN     NaN         NaN   NaN           NaN       NaN   \n",
       "\n",
       "        claim_id  customer_id      incident_cause  claim_date claim_area  \\\n",
       "0     54004764.0   21868593.0        Driver error  11/27/2017       Auto   \n",
       "1     33985796.0   75740424.0               Crime  10/03/2018       Home   \n",
       "2     53522022.0   30308357.0  Other driver error  02/02/2018       Auto   \n",
       "3     63017412.0   30308357.0        Driver error  04/04/2018       Auto   \n",
       "4     13015401.0   47830476.0      Natural causes  06/17/2018       Auto   \n",
       "...          ...          ...                 ...         ...        ...   \n",
       "1102  97727122.0   35951012.0  Other driver error  06/11/2017       Auto   \n",
       "1103  10247193.0   14818669.0      Natural causes  03/14/2018       Auto   \n",
       "1104  79807493.0   85322831.0  Other driver error  02/09/2018       Auto   \n",
       "1105  69299345.0   73449366.0        Other causes  03/21/2018       Auto   \n",
       "1106  58809728.0   43020876.0  Other driver error  06/04/2017       Auto   \n",
       "\n",
       "     police_report           claim_type claim_amount  total_policy_claims  \\\n",
       "0               No        Material only        $2980                  1.0   \n",
       "1          Unknown        Material only        $2980                  3.0   \n",
       "2               No        Material only      $3369.5                  1.0   \n",
       "3               No        Material only        $1950                  6.0   \n",
       "4               No        Material only        $1680                  1.0   \n",
       "...            ...                  ...          ...                  ...   \n",
       "1102            No        Material only        $3059                  4.0   \n",
       "1103            No        Material only        $1520                  2.0   \n",
       "1104            No  Material and injury       $23575                  2.0   \n",
       "1105       Unknown  Material and injury       $25120                  1.0   \n",
       "1106           Yes  Material and injury       $36685                  3.0   \n",
       "\n",
       "     fraudulent  \n",
       "0            No  \n",
       "1            No  \n",
       "2           Yes  \n",
       "3            No  \n",
       "4            No  \n",
       "...         ...  \n",
       "1102        Yes  \n",
       "1103         No  \n",
       "1104        Yes  \n",
       "1105         No  \n",
       "1106        Yes  \n",
       "\n",
       "[1107 rows x 16 columns]"
      ]
     },
     "execution_count": 62,
     "metadata": {},
     "output_type": "execute_result"
    }
   ],
   "source": [
    "final_data.dropna(axis=0,how='all')"
   ]
  },
  {
   "cell_type": "code",
   "execution_count": 7,
   "id": "3ec2a804",
   "metadata": {},
   "outputs": [],
   "source": [
    "final_data.drop(columns='CUST_ID' ,inplace=True)"
   ]
  },
  {
   "cell_type": "code",
   "execution_count": 93,
   "id": "8554e48d",
   "metadata": {},
   "outputs": [
    {
     "data": {
      "text/plain": [
       "0        2980.0\n",
       "1        2980.0\n",
       "2        3369.5\n",
       "3        1950.0\n",
       "4        1680.0\n",
       "         ...   \n",
       "1102     3059.0\n",
       "1103     1520.0\n",
       "1104    23575.0\n",
       "1105    25120.0\n",
       "1106    36685.0\n",
       "Name: claim_amount, Length: 1107, dtype: float64"
      ]
     },
     "execution_count": 93,
     "metadata": {},
     "output_type": "execute_result"
    }
   ],
   "source": [
    "final_data.claim_amount     ### It is without $ symbol only"
   ]
  },
  {
   "cell_type": "code",
   "execution_count": 39,
   "id": "341560dd",
   "metadata": {},
   "outputs": [
    {
     "data": {
      "text/plain": [
       "Material only          663\n",
       "Material and injury    241\n",
       "Injury only            196\n",
       "Name: claim_type, dtype: int64"
      ]
     },
     "execution_count": 39,
     "metadata": {},
     "output_type": "execute_result"
    }
   ],
   "source": [
    "final_data.claim_type.value_counts()   ###checking distinct values in claim_type"
   ]
  },
  {
   "cell_type": "code",
   "execution_count": 66,
   "id": "04e18ff1",
   "metadata": {},
   "outputs": [],
   "source": [
    "final_data['flag']= np.where((final_data.claim_type=='Injury only')& (final_data.police_report=='No'),0,np.where((final_data.claim_type=='Injury only')& (final_data.police_report=='Yes'),1,np.nan ))"
   ]
  },
  {
   "cell_type": "code",
   "execution_count": 78,
   "id": "625db04d",
   "metadata": {
    "scrolled": true
   },
   "outputs": [
    {
     "data": {
      "text/html": [
       "<div>\n",
       "<style scoped>\n",
       "    .dataframe tbody tr th:only-of-type {\n",
       "        vertical-align: middle;\n",
       "    }\n",
       "\n",
       "    .dataframe tbody tr th {\n",
       "        vertical-align: top;\n",
       "    }\n",
       "\n",
       "    .dataframe thead th {\n",
       "        text-align: right;\n",
       "    }\n",
       "</style>\n",
       "<table border=\"1\" class=\"dataframe\">\n",
       "  <thead>\n",
       "    <tr style=\"text-align: right;\">\n",
       "      <th></th>\n",
       "      <th>gender</th>\n",
       "      <th>DateOfBirth</th>\n",
       "      <th>State</th>\n",
       "      <th>Contact</th>\n",
       "      <th>Segment</th>\n",
       "      <th>claim_id</th>\n",
       "      <th>customer_id</th>\n",
       "      <th>incident_cause</th>\n",
       "      <th>claim_date</th>\n",
       "      <th>claim_area</th>\n",
       "      <th>police_report</th>\n",
       "      <th>claim_type</th>\n",
       "      <th>claim_amount</th>\n",
       "      <th>total_policy_claims</th>\n",
       "      <th>fraudulent</th>\n",
       "      <th>flag</th>\n",
       "    </tr>\n",
       "  </thead>\n",
       "  <tbody>\n",
       "    <tr>\n",
       "      <th>18</th>\n",
       "      <td>Female</td>\n",
       "      <td>1969-01-14</td>\n",
       "      <td>MI</td>\n",
       "      <td>314-135-1359</td>\n",
       "      <td>Platinum</td>\n",
       "      <td>67257404.0</td>\n",
       "      <td>18288638.0</td>\n",
       "      <td>Other driver error</td>\n",
       "      <td>1969-01-14</td>\n",
       "      <td>Auto</td>\n",
       "      <td>Yes</td>\n",
       "      <td>Injury only</td>\n",
       "      <td>32560.0</td>\n",
       "      <td>1.0</td>\n",
       "      <td>No</td>\n",
       "      <td>1</td>\n",
       "    </tr>\n",
       "    <tr>\n",
       "      <th>23</th>\n",
       "      <td>Female</td>\n",
       "      <td>1979-10-10</td>\n",
       "      <td>SC</td>\n",
       "      <td>643-978-8251</td>\n",
       "      <td>Platinum</td>\n",
       "      <td>19051665.0</td>\n",
       "      <td>9667764.0</td>\n",
       "      <td>Other causes</td>\n",
       "      <td>1979-10-10</td>\n",
       "      <td>Auto</td>\n",
       "      <td>Yes</td>\n",
       "      <td>Injury only</td>\n",
       "      <td>36190.0</td>\n",
       "      <td>1.0</td>\n",
       "      <td>No</td>\n",
       "      <td>1</td>\n",
       "    </tr>\n",
       "  </tbody>\n",
       "</table>\n",
       "</div>"
      ],
      "text/plain": [
       "    gender DateOfBirth State       Contact   Segment    claim_id  customer_id  \\\n",
       "18  Female  1969-01-14    MI  314-135-1359  Platinum  67257404.0   18288638.0   \n",
       "23  Female  1979-10-10    SC  643-978-8251  Platinum  19051665.0    9667764.0   \n",
       "\n",
       "        incident_cause claim_date claim_area police_report   claim_type  \\\n",
       "18  Other driver error 1969-01-14       Auto           Yes  Injury only   \n",
       "23        Other causes 1979-10-10       Auto           Yes  Injury only   \n",
       "\n",
       "    claim_amount  total_policy_claims fraudulent flag  \n",
       "18       32560.0                  1.0         No    1  \n",
       "23       36190.0                  1.0         No    1  "
      ]
     },
     "execution_count": 78,
     "metadata": {},
     "output_type": "execute_result"
    }
   ],
   "source": [
    "final_data.loc[(final_data.claim_type=='Injury only')& (final_data.police_report=='Yes')].head(2)"
   ]
  },
  {
   "cell_type": "code",
   "execution_count": 162,
   "id": "3e29024d",
   "metadata": {},
   "outputs": [],
   "source": [
    "final_data.drop_duplicates(subset=['customer_id','claim_id'],keep='first',inplace=True)"
   ]
  },
  {
   "cell_type": "code",
   "execution_count": 163,
   "id": "8915e69c",
   "metadata": {},
   "outputs": [
    {
     "data": {
      "text/html": [
       "<div>\n",
       "<style scoped>\n",
       "    .dataframe tbody tr th:only-of-type {\n",
       "        vertical-align: middle;\n",
       "    }\n",
       "\n",
       "    .dataframe tbody tr th {\n",
       "        vertical-align: top;\n",
       "    }\n",
       "\n",
       "    .dataframe thead th {\n",
       "        text-align: right;\n",
       "    }\n",
       "</style>\n",
       "<table border=\"1\" class=\"dataframe\">\n",
       "  <thead>\n",
       "    <tr style=\"text-align: right;\">\n",
       "      <th></th>\n",
       "      <th>gender</th>\n",
       "      <th>DateOfBirth</th>\n",
       "      <th>State</th>\n",
       "      <th>Contact</th>\n",
       "      <th>Segment</th>\n",
       "      <th>claim_id</th>\n",
       "      <th>customer_id</th>\n",
       "      <th>incident_cause</th>\n",
       "      <th>claim_date</th>\n",
       "      <th>claim_area</th>\n",
       "      <th>police_report</th>\n",
       "      <th>claim_type</th>\n",
       "      <th>claim_amount</th>\n",
       "      <th>total_policy_claims</th>\n",
       "      <th>fraudulent</th>\n",
       "      <th>flag</th>\n",
       "    </tr>\n",
       "  </thead>\n",
       "  <tbody>\n",
       "    <tr>\n",
       "      <th>0</th>\n",
       "      <td>Female</td>\n",
       "      <td>12-Jan-79</td>\n",
       "      <td>VT</td>\n",
       "      <td>789-916-8172</td>\n",
       "      <td>Platinum</td>\n",
       "      <td>54004764.0</td>\n",
       "      <td>21868593.0</td>\n",
       "      <td>Driver error</td>\n",
       "      <td>11/27/2017</td>\n",
       "      <td>Auto</td>\n",
       "      <td>No</td>\n",
       "      <td>Material only</td>\n",
       "      <td>$2980</td>\n",
       "      <td>1.0</td>\n",
       "      <td>No</td>\n",
       "      <td>NaN</td>\n",
       "    </tr>\n",
       "    <tr>\n",
       "      <th>1</th>\n",
       "      <td>Female</td>\n",
       "      <td>13-Jan-70</td>\n",
       "      <td>ME</td>\n",
       "      <td>265-543-1264</td>\n",
       "      <td>Silver</td>\n",
       "      <td>33985796.0</td>\n",
       "      <td>75740424.0</td>\n",
       "      <td>Crime</td>\n",
       "      <td>10/03/2018</td>\n",
       "      <td>Home</td>\n",
       "      <td>Unknown</td>\n",
       "      <td>Material only</td>\n",
       "      <td>$2980</td>\n",
       "      <td>3.0</td>\n",
       "      <td>No</td>\n",
       "      <td>NaN</td>\n",
       "    </tr>\n",
       "    <tr>\n",
       "      <th>2</th>\n",
       "      <td>Female</td>\n",
       "      <td>11-Mar-84</td>\n",
       "      <td>TN</td>\n",
       "      <td>798-631-4758</td>\n",
       "      <td>Silver</td>\n",
       "      <td>53522022.0</td>\n",
       "      <td>30308357.0</td>\n",
       "      <td>Other driver error</td>\n",
       "      <td>02/02/2018</td>\n",
       "      <td>Auto</td>\n",
       "      <td>No</td>\n",
       "      <td>Material only</td>\n",
       "      <td>$3369.5</td>\n",
       "      <td>1.0</td>\n",
       "      <td>Yes</td>\n",
       "      <td>NaN</td>\n",
       "    </tr>\n",
       "    <tr>\n",
       "      <th>3</th>\n",
       "      <td>Female</td>\n",
       "      <td>11-Mar-84</td>\n",
       "      <td>TN</td>\n",
       "      <td>798-631-4758</td>\n",
       "      <td>Silver</td>\n",
       "      <td>63017412.0</td>\n",
       "      <td>30308357.0</td>\n",
       "      <td>Driver error</td>\n",
       "      <td>04/04/2018</td>\n",
       "      <td>Auto</td>\n",
       "      <td>No</td>\n",
       "      <td>Material only</td>\n",
       "      <td>$1950</td>\n",
       "      <td>6.0</td>\n",
       "      <td>No</td>\n",
       "      <td>NaN</td>\n",
       "    </tr>\n",
       "    <tr>\n",
       "      <th>4</th>\n",
       "      <td>Female</td>\n",
       "      <td>01-May-86</td>\n",
       "      <td>MA</td>\n",
       "      <td>413-187-7945</td>\n",
       "      <td>Silver</td>\n",
       "      <td>13015401.0</td>\n",
       "      <td>47830476.0</td>\n",
       "      <td>Natural causes</td>\n",
       "      <td>06/17/2018</td>\n",
       "      <td>Auto</td>\n",
       "      <td>No</td>\n",
       "      <td>Material only</td>\n",
       "      <td>$1680</td>\n",
       "      <td>1.0</td>\n",
       "      <td>No</td>\n",
       "      <td>NaN</td>\n",
       "    </tr>\n",
       "    <tr>\n",
       "      <th>...</th>\n",
       "      <td>...</td>\n",
       "      <td>...</td>\n",
       "      <td>...</td>\n",
       "      <td>...</td>\n",
       "      <td>...</td>\n",
       "      <td>...</td>\n",
       "      <td>...</td>\n",
       "      <td>...</td>\n",
       "      <td>...</td>\n",
       "      <td>...</td>\n",
       "      <td>...</td>\n",
       "      <td>...</td>\n",
       "      <td>...</td>\n",
       "      <td>...</td>\n",
       "      <td>...</td>\n",
       "      <td>...</td>\n",
       "    </tr>\n",
       "    <tr>\n",
       "      <th>1102</th>\n",
       "      <td>NaN</td>\n",
       "      <td>NaN</td>\n",
       "      <td>NaN</td>\n",
       "      <td>NaN</td>\n",
       "      <td>NaN</td>\n",
       "      <td>97727122.0</td>\n",
       "      <td>35951012.0</td>\n",
       "      <td>Other driver error</td>\n",
       "      <td>06/11/2017</td>\n",
       "      <td>Auto</td>\n",
       "      <td>No</td>\n",
       "      <td>Material only</td>\n",
       "      <td>$3059</td>\n",
       "      <td>4.0</td>\n",
       "      <td>Yes</td>\n",
       "      <td>NaN</td>\n",
       "    </tr>\n",
       "    <tr>\n",
       "      <th>1103</th>\n",
       "      <td>NaN</td>\n",
       "      <td>NaN</td>\n",
       "      <td>NaN</td>\n",
       "      <td>NaN</td>\n",
       "      <td>NaN</td>\n",
       "      <td>10247193.0</td>\n",
       "      <td>14818669.0</td>\n",
       "      <td>Natural causes</td>\n",
       "      <td>03/14/2018</td>\n",
       "      <td>Auto</td>\n",
       "      <td>No</td>\n",
       "      <td>Material only</td>\n",
       "      <td>$1520</td>\n",
       "      <td>2.0</td>\n",
       "      <td>No</td>\n",
       "      <td>NaN</td>\n",
       "    </tr>\n",
       "    <tr>\n",
       "      <th>1104</th>\n",
       "      <td>NaN</td>\n",
       "      <td>NaN</td>\n",
       "      <td>NaN</td>\n",
       "      <td>NaN</td>\n",
       "      <td>NaN</td>\n",
       "      <td>79807493.0</td>\n",
       "      <td>85322831.0</td>\n",
       "      <td>Other driver error</td>\n",
       "      <td>02/09/2018</td>\n",
       "      <td>Auto</td>\n",
       "      <td>No</td>\n",
       "      <td>Material and injury</td>\n",
       "      <td>$23575</td>\n",
       "      <td>2.0</td>\n",
       "      <td>Yes</td>\n",
       "      <td>NaN</td>\n",
       "    </tr>\n",
       "    <tr>\n",
       "      <th>1105</th>\n",
       "      <td>NaN</td>\n",
       "      <td>NaN</td>\n",
       "      <td>NaN</td>\n",
       "      <td>NaN</td>\n",
       "      <td>NaN</td>\n",
       "      <td>69299345.0</td>\n",
       "      <td>73449366.0</td>\n",
       "      <td>Other causes</td>\n",
       "      <td>03/21/2018</td>\n",
       "      <td>Auto</td>\n",
       "      <td>Unknown</td>\n",
       "      <td>Material and injury</td>\n",
       "      <td>$25120</td>\n",
       "      <td>1.0</td>\n",
       "      <td>No</td>\n",
       "      <td>NaN</td>\n",
       "    </tr>\n",
       "    <tr>\n",
       "      <th>1106</th>\n",
       "      <td>NaN</td>\n",
       "      <td>NaN</td>\n",
       "      <td>NaN</td>\n",
       "      <td>NaN</td>\n",
       "      <td>NaN</td>\n",
       "      <td>58809728.0</td>\n",
       "      <td>43020876.0</td>\n",
       "      <td>Other driver error</td>\n",
       "      <td>06/04/2017</td>\n",
       "      <td>Auto</td>\n",
       "      <td>Yes</td>\n",
       "      <td>Material and injury</td>\n",
       "      <td>$36685</td>\n",
       "      <td>3.0</td>\n",
       "      <td>Yes</td>\n",
       "      <td>NaN</td>\n",
       "    </tr>\n",
       "  </tbody>\n",
       "</table>\n",
       "<p>1101 rows × 16 columns</p>\n",
       "</div>"
      ],
      "text/plain": [
       "      gender DateOfBirth State       Contact   Segment    claim_id  \\\n",
       "0     Female   12-Jan-79    VT  789-916-8172  Platinum  54004764.0   \n",
       "1     Female   13-Jan-70    ME  265-543-1264    Silver  33985796.0   \n",
       "2     Female   11-Mar-84    TN  798-631-4758    Silver  53522022.0   \n",
       "3     Female   11-Mar-84    TN  798-631-4758    Silver  63017412.0   \n",
       "4     Female   01-May-86    MA  413-187-7945    Silver  13015401.0   \n",
       "...      ...         ...   ...           ...       ...         ...   \n",
       "1102     NaN         NaN   NaN           NaN       NaN  97727122.0   \n",
       "1103     NaN         NaN   NaN           NaN       NaN  10247193.0   \n",
       "1104     NaN         NaN   NaN           NaN       NaN  79807493.0   \n",
       "1105     NaN         NaN   NaN           NaN       NaN  69299345.0   \n",
       "1106     NaN         NaN   NaN           NaN       NaN  58809728.0   \n",
       "\n",
       "      customer_id      incident_cause  claim_date claim_area police_report  \\\n",
       "0      21868593.0        Driver error  11/27/2017       Auto            No   \n",
       "1      75740424.0               Crime  10/03/2018       Home       Unknown   \n",
       "2      30308357.0  Other driver error  02/02/2018       Auto            No   \n",
       "3      30308357.0        Driver error  04/04/2018       Auto            No   \n",
       "4      47830476.0      Natural causes  06/17/2018       Auto            No   \n",
       "...           ...                 ...         ...        ...           ...   \n",
       "1102   35951012.0  Other driver error  06/11/2017       Auto            No   \n",
       "1103   14818669.0      Natural causes  03/14/2018       Auto            No   \n",
       "1104   85322831.0  Other driver error  02/09/2018       Auto            No   \n",
       "1105   73449366.0        Other causes  03/21/2018       Auto       Unknown   \n",
       "1106   43020876.0  Other driver error  06/04/2017       Auto           Yes   \n",
       "\n",
       "               claim_type claim_amount  total_policy_claims fraudulent  flag  \n",
       "0           Material only        $2980                  1.0         No   NaN  \n",
       "1           Material only        $2980                  3.0         No   NaN  \n",
       "2           Material only      $3369.5                  1.0        Yes   NaN  \n",
       "3           Material only        $1950                  6.0         No   NaN  \n",
       "4           Material only        $1680                  1.0         No   NaN  \n",
       "...                   ...          ...                  ...        ...   ...  \n",
       "1102        Material only        $3059                  4.0        Yes   NaN  \n",
       "1103        Material only        $1520                  2.0         No   NaN  \n",
       "1104  Material and injury       $23575                  2.0        Yes   NaN  \n",
       "1105  Material and injury       $25120                  1.0         No   NaN  \n",
       "1106  Material and injury       $36685                  3.0        Yes   NaN  \n",
       "\n",
       "[1101 rows x 16 columns]"
      ]
     },
     "execution_count": 163,
     "metadata": {},
     "output_type": "execute_result"
    }
   ],
   "source": [
    "final_data"
   ]
  },
  {
   "cell_type": "code",
   "execution_count": 167,
   "id": "b26b62ae",
   "metadata": {},
   "outputs": [
    {
     "data": {
      "text/plain": [
       "gender                  15\n",
       "DateOfBirth             15\n",
       "State                   15\n",
       "Contact                 15\n",
       "Segment                 15\n",
       "claim_id                 1\n",
       "customer_id              1\n",
       "incident_cause           1\n",
       "claim_date               1\n",
       "claim_area               1\n",
       "police_report            1\n",
       "claim_type               1\n",
       "claim_amount            66\n",
       "total_policy_claims     11\n",
       "fraudulent               1\n",
       "flag                   970\n",
       "dtype: int64"
      ]
     },
     "execution_count": 167,
     "metadata": {},
     "output_type": "execute_result"
    }
   ],
   "source": [
    "final_data.isna().sum()"
   ]
  },
  {
   "cell_type": "code",
   "execution_count": 67,
   "id": "e57fe0b8",
   "metadata": {},
   "outputs": [],
   "source": [
    "final_data.claim_amount.fillna(final_data.claim_amount.mean(),inplace=True)\n",
    "final_data.incident_cause.fillna(final_data.incident_cause.mode()[0],inplace=True)\n",
    "final_data.claim_area.fillna(final_data.claim_area.mode(),inplace=True)\n",
    "final_data.claim_type.fillna(final_data.claim_type.mode(),inplace=True)\n",
    "final_data.police_report.fillna(final_data.police_report.mode(),inplace=True)\n",
    "final_data.total_policy_claims.fillna(final_data.total_policy_claims.mode()[0],inplace=True)\n",
    "final_data.fraudulent.fillna(final_data.fraudulent.mode(),inplace=True)\n",
    "final_data.flag.fillna(final_data.flag.mode(),inplace=True)\n"
   ]
  },
  {
   "cell_type": "code",
   "execution_count": 216,
   "id": "819961b5",
   "metadata": {
    "scrolled": true
   },
   "outputs": [
    {
     "data": {
      "text/html": [
       "<div>\n",
       "<style scoped>\n",
       "    .dataframe tbody tr th:only-of-type {\n",
       "        vertical-align: middle;\n",
       "    }\n",
       "\n",
       "    .dataframe tbody tr th {\n",
       "        vertical-align: top;\n",
       "    }\n",
       "\n",
       "    .dataframe thead th {\n",
       "        text-align: right;\n",
       "    }\n",
       "</style>\n",
       "<table border=\"1\" class=\"dataframe\">\n",
       "  <thead>\n",
       "    <tr style=\"text-align: right;\">\n",
       "      <th></th>\n",
       "      <th>CUST_ID</th>\n",
       "      <th>gender</th>\n",
       "      <th>DateOfBirth</th>\n",
       "      <th>State</th>\n",
       "      <th>Contact</th>\n",
       "      <th>Segment</th>\n",
       "      <th>claim_id</th>\n",
       "      <th>customer_id</th>\n",
       "      <th>incident_cause</th>\n",
       "      <th>claim_date</th>\n",
       "      <th>claim_area</th>\n",
       "      <th>police_report</th>\n",
       "      <th>claim_type</th>\n",
       "      <th>claim_amount</th>\n",
       "      <th>total_policy_claims</th>\n",
       "      <th>fraudulent</th>\n",
       "    </tr>\n",
       "  </thead>\n",
       "  <tbody>\n",
       "    <tr>\n",
       "      <th>0</th>\n",
       "      <td>21868593.0</td>\n",
       "      <td>Female</td>\n",
       "      <td>1979-01-12</td>\n",
       "      <td>VT</td>\n",
       "      <td>789-916-8172</td>\n",
       "      <td>Platinum</td>\n",
       "      <td>54004764.0</td>\n",
       "      <td>21868593.0</td>\n",
       "      <td>Driver error</td>\n",
       "      <td>2017-11-27</td>\n",
       "      <td>Auto</td>\n",
       "      <td>No</td>\n",
       "      <td>Material only</td>\n",
       "      <td>2980.0</td>\n",
       "      <td>1.0</td>\n",
       "      <td>No</td>\n",
       "    </tr>\n",
       "    <tr>\n",
       "      <th>1</th>\n",
       "      <td>75740424.0</td>\n",
       "      <td>Female</td>\n",
       "      <td>1970-01-13</td>\n",
       "      <td>ME</td>\n",
       "      <td>265-543-1264</td>\n",
       "      <td>Silver</td>\n",
       "      <td>33985796.0</td>\n",
       "      <td>75740424.0</td>\n",
       "      <td>Crime</td>\n",
       "      <td>2018-10-03</td>\n",
       "      <td>Home</td>\n",
       "      <td>Unknown</td>\n",
       "      <td>Material only</td>\n",
       "      <td>2980.0</td>\n",
       "      <td>3.0</td>\n",
       "      <td>No</td>\n",
       "    </tr>\n",
       "  </tbody>\n",
       "</table>\n",
       "</div>"
      ],
      "text/plain": [
       "      CUST_ID  gender DateOfBirth State       Contact   Segment    claim_id  \\\n",
       "0  21868593.0  Female  1979-01-12    VT  789-916-8172  Platinum  54004764.0   \n",
       "1  75740424.0  Female  1970-01-13    ME  265-543-1264    Silver  33985796.0   \n",
       "\n",
       "   customer_id incident_cause claim_date claim_area police_report  \\\n",
       "0   21868593.0   Driver error 2017-11-27       Auto            No   \n",
       "1   75740424.0          Crime 2018-10-03       Home       Unknown   \n",
       "\n",
       "      claim_type  claim_amount  total_policy_claims fraudulent  \n",
       "0  Material only        2980.0                  1.0         No  \n",
       "1  Material only        2980.0                  3.0         No  "
      ]
     },
     "execution_count": 216,
     "metadata": {},
     "output_type": "execute_result"
    }
   ],
   "source": [
    "final_data.head(2)"
   ]
  },
  {
   "cell_type": "code",
   "execution_count": 203,
   "id": "9f549f54",
   "metadata": {},
   "outputs": [],
   "source": [
    "import datetime as dt"
   ]
  },
  {
   "cell_type": "code",
   "execution_count": 70,
   "id": "82703178",
   "metadata": {},
   "outputs": [],
   "source": [
    "final_data['Age']=((final_data.claim_date-final_data.DateOfBirth).apply(lambda x: x/365).dt.days).round(1)"
   ]
  },
  {
   "cell_type": "code",
   "execution_count": 229,
   "id": "34f434d6",
   "metadata": {},
   "outputs": [
    {
     "data": {
      "text/html": [
       "<div>\n",
       "<style scoped>\n",
       "    .dataframe tbody tr th:only-of-type {\n",
       "        vertical-align: middle;\n",
       "    }\n",
       "\n",
       "    .dataframe tbody tr th {\n",
       "        vertical-align: top;\n",
       "    }\n",
       "\n",
       "    .dataframe thead th {\n",
       "        text-align: right;\n",
       "    }\n",
       "</style>\n",
       "<table border=\"1\" class=\"dataframe\">\n",
       "  <thead>\n",
       "    <tr style=\"text-align: right;\">\n",
       "      <th></th>\n",
       "      <th>CUST_ID</th>\n",
       "      <th>gender</th>\n",
       "      <th>DateOfBirth</th>\n",
       "      <th>State</th>\n",
       "      <th>Contact</th>\n",
       "      <th>Segment</th>\n",
       "      <th>claim_id</th>\n",
       "      <th>customer_id</th>\n",
       "      <th>incident_cause</th>\n",
       "      <th>claim_date</th>\n",
       "      <th>claim_area</th>\n",
       "      <th>police_report</th>\n",
       "      <th>claim_type</th>\n",
       "      <th>claim_amount</th>\n",
       "      <th>total_policy_claims</th>\n",
       "      <th>fraudulent</th>\n",
       "      <th>Age</th>\n",
       "    </tr>\n",
       "  </thead>\n",
       "  <tbody>\n",
       "    <tr>\n",
       "      <th>0</th>\n",
       "      <td>21868593.0</td>\n",
       "      <td>Female</td>\n",
       "      <td>1979-01-12</td>\n",
       "      <td>VT</td>\n",
       "      <td>789-916-8172</td>\n",
       "      <td>Platinum</td>\n",
       "      <td>54004764.0</td>\n",
       "      <td>21868593.0</td>\n",
       "      <td>Driver error</td>\n",
       "      <td>2017-11-27</td>\n",
       "      <td>Auto</td>\n",
       "      <td>No</td>\n",
       "      <td>Material only</td>\n",
       "      <td>2980.0</td>\n",
       "      <td>1.0</td>\n",
       "      <td>No</td>\n",
       "      <td>38.0</td>\n",
       "    </tr>\n",
       "    <tr>\n",
       "      <th>1</th>\n",
       "      <td>75740424.0</td>\n",
       "      <td>Female</td>\n",
       "      <td>1970-01-13</td>\n",
       "      <td>ME</td>\n",
       "      <td>265-543-1264</td>\n",
       "      <td>Silver</td>\n",
       "      <td>33985796.0</td>\n",
       "      <td>75740424.0</td>\n",
       "      <td>Crime</td>\n",
       "      <td>2018-10-03</td>\n",
       "      <td>Home</td>\n",
       "      <td>Unknown</td>\n",
       "      <td>Material only</td>\n",
       "      <td>2980.0</td>\n",
       "      <td>3.0</td>\n",
       "      <td>No</td>\n",
       "      <td>48.0</td>\n",
       "    </tr>\n",
       "  </tbody>\n",
       "</table>\n",
       "</div>"
      ],
      "text/plain": [
       "      CUST_ID  gender DateOfBirth State       Contact   Segment    claim_id  \\\n",
       "0  21868593.0  Female  1979-01-12    VT  789-916-8172  Platinum  54004764.0   \n",
       "1  75740424.0  Female  1970-01-13    ME  265-543-1264    Silver  33985796.0   \n",
       "\n",
       "   customer_id incident_cause claim_date claim_area police_report  \\\n",
       "0   21868593.0   Driver error 2017-11-27       Auto            No   \n",
       "1   75740424.0          Crime 2018-10-03       Home       Unknown   \n",
       "\n",
       "      claim_type  claim_amount  total_policy_claims fraudulent   Age  \n",
       "0  Material only        2980.0                  1.0         No  38.0  \n",
       "1  Material only        2980.0                  3.0         No  48.0  "
      ]
     },
     "execution_count": 229,
     "metadata": {},
     "output_type": "execute_result"
    }
   ],
   "source": [
    "final_data.head(2)"
   ]
  },
  {
   "cell_type": "code",
   "execution_count": 71,
   "id": "ada3804a",
   "metadata": {},
   "outputs": [],
   "source": [
    "final_data['Age_category']=pd.cut(final_data.Age, bins=[0,18,30,60,100],labels=['children','youth','adult','senior'])"
   ]
  },
  {
   "cell_type": "code",
   "execution_count": 232,
   "id": "d0e645cc",
   "metadata": {},
   "outputs": [
    {
     "data": {
      "text/html": [
       "<div>\n",
       "<style scoped>\n",
       "    .dataframe tbody tr th:only-of-type {\n",
       "        vertical-align: middle;\n",
       "    }\n",
       "\n",
       "    .dataframe tbody tr th {\n",
       "        vertical-align: top;\n",
       "    }\n",
       "\n",
       "    .dataframe thead th {\n",
       "        text-align: right;\n",
       "    }\n",
       "</style>\n",
       "<table border=\"1\" class=\"dataframe\">\n",
       "  <thead>\n",
       "    <tr style=\"text-align: right;\">\n",
       "      <th></th>\n",
       "      <th>CUST_ID</th>\n",
       "      <th>gender</th>\n",
       "      <th>DateOfBirth</th>\n",
       "      <th>State</th>\n",
       "      <th>Contact</th>\n",
       "      <th>Segment</th>\n",
       "      <th>claim_id</th>\n",
       "      <th>customer_id</th>\n",
       "      <th>incident_cause</th>\n",
       "      <th>claim_date</th>\n",
       "      <th>claim_area</th>\n",
       "      <th>police_report</th>\n",
       "      <th>claim_type</th>\n",
       "      <th>claim_amount</th>\n",
       "      <th>total_policy_claims</th>\n",
       "      <th>fraudulent</th>\n",
       "      <th>Age</th>\n",
       "      <th>Age_category</th>\n",
       "    </tr>\n",
       "  </thead>\n",
       "  <tbody>\n",
       "    <tr>\n",
       "      <th>0</th>\n",
       "      <td>21868593.0</td>\n",
       "      <td>Female</td>\n",
       "      <td>1979-01-12</td>\n",
       "      <td>VT</td>\n",
       "      <td>789-916-8172</td>\n",
       "      <td>Platinum</td>\n",
       "      <td>54004764.0</td>\n",
       "      <td>21868593.0</td>\n",
       "      <td>Driver error</td>\n",
       "      <td>2017-11-27</td>\n",
       "      <td>Auto</td>\n",
       "      <td>No</td>\n",
       "      <td>Material only</td>\n",
       "      <td>2980.0</td>\n",
       "      <td>1.0</td>\n",
       "      <td>No</td>\n",
       "      <td>38.0</td>\n",
       "      <td>adult</td>\n",
       "    </tr>\n",
       "    <tr>\n",
       "      <th>1</th>\n",
       "      <td>75740424.0</td>\n",
       "      <td>Female</td>\n",
       "      <td>1970-01-13</td>\n",
       "      <td>ME</td>\n",
       "      <td>265-543-1264</td>\n",
       "      <td>Silver</td>\n",
       "      <td>33985796.0</td>\n",
       "      <td>75740424.0</td>\n",
       "      <td>Crime</td>\n",
       "      <td>2018-10-03</td>\n",
       "      <td>Home</td>\n",
       "      <td>Unknown</td>\n",
       "      <td>Material only</td>\n",
       "      <td>2980.0</td>\n",
       "      <td>3.0</td>\n",
       "      <td>No</td>\n",
       "      <td>48.0</td>\n",
       "      <td>adult</td>\n",
       "    </tr>\n",
       "  </tbody>\n",
       "</table>\n",
       "</div>"
      ],
      "text/plain": [
       "      CUST_ID  gender DateOfBirth State       Contact   Segment    claim_id  \\\n",
       "0  21868593.0  Female  1979-01-12    VT  789-916-8172  Platinum  54004764.0   \n",
       "1  75740424.0  Female  1970-01-13    ME  265-543-1264    Silver  33985796.0   \n",
       "\n",
       "   customer_id incident_cause claim_date claim_area police_report  \\\n",
       "0   21868593.0   Driver error 2017-11-27       Auto            No   \n",
       "1   75740424.0          Crime 2018-10-03       Home       Unknown   \n",
       "\n",
       "      claim_type  claim_amount  total_policy_claims fraudulent   Age  \\\n",
       "0  Material only        2980.0                  1.0         No  38.0   \n",
       "1  Material only        2980.0                  3.0         No  48.0   \n",
       "\n",
       "  Age_category  \n",
       "0        adult  \n",
       "1        adult  "
      ]
     },
     "execution_count": 232,
     "metadata": {},
     "output_type": "execute_result"
    }
   ],
   "source": [
    "final_data.head(2)"
   ]
  },
  {
   "cell_type": "code",
   "execution_count": 233,
   "id": "582187ab",
   "metadata": {},
   "outputs": [
    {
     "data": {
      "text/plain": [
       "adult       480\n",
       "youth       327\n",
       "children     33\n",
       "senior        0\n",
       "Name: Age_category, dtype: int64"
      ]
     },
     "execution_count": 233,
     "metadata": {},
     "output_type": "execute_result"
    }
   ],
   "source": [
    "final_data.Age_category.value_counts()"
   ]
  },
  {
   "cell_type": "code",
   "execution_count": 236,
   "id": "884b680e",
   "metadata": {},
   "outputs": [
    {
     "data": {
      "text/plain": [
       "Segment\n",
       "Gold        12852.19\n",
       "Platinum    12336.52\n",
       "Silver      12185.75\n",
       "Name: claim_amount, dtype: float64"
      ]
     },
     "execution_count": 236,
     "metadata": {},
     "output_type": "execute_result"
    }
   ],
   "source": [
    "final_data.groupby(by='Segment').claim_amount.mean().round(2)"
   ]
  },
  {
   "cell_type": "code",
   "execution_count": 241,
   "id": "4157ca21",
   "metadata": {},
   "outputs": [
    {
     "data": {
      "text/plain": [
       "incident_cause\n",
       "Crime                  667262.0\n",
       "Driver error          3199350.0\n",
       "Natural causes        1204461.5\n",
       "Other causes          3543469.0\n",
       "Other driver error    3222297.5\n",
       "Name: claim_amount, dtype: float64"
      ]
     },
     "execution_count": 241,
     "metadata": {},
     "output_type": "execute_result"
    }
   ],
   "source": [
    "final_data[final_data.claim_date<'2018-09-10'].groupby(by='incident_cause').claim_amount.sum()"
   ]
  },
  {
   "cell_type": "code",
   "execution_count": 268,
   "id": "05094626",
   "metadata": {},
   "outputs": [
    {
     "data": {
      "text/plain": [
       "State\n",
       "AK    8\n",
       "DE    5\n",
       "TX    4\n",
       "Name: total_policy_claims, dtype: int64"
      ]
     },
     "execution_count": 268,
     "metadata": {},
     "output_type": "execute_result"
    }
   ],
   "source": [
    "final_data.loc[(final_data.State.isin(['TX', 'DE' ,'AK']))& (final_data.incident_cause.str.upper().str.contains('DRIVER'))& (final_data.Age_category=='adult')].groupby(by='State').total_policy_claims.count()"
   ]
  },
  {
   "cell_type": "code",
   "execution_count": 262,
   "id": "18be940b",
   "metadata": {},
   "outputs": [],
   "source": [
    "x=final_data.groupby(by=['Segment','gender']).claim_amount.sum()"
   ]
  },
  {
   "cell_type": "code",
   "execution_count": 263,
   "id": "a040bce5",
   "metadata": {},
   "outputs": [
    {
     "data": {
      "text/plain": [
       "Segment   gender\n",
       "Gold      Female    1997529.0\n",
       "          Male      2539294.0\n",
       "Platinum  Female    2282210.0\n",
       "          Male      1998561.5\n",
       "Silver    Female    1739832.0\n",
       "          Male      2159608.5\n",
       "Name: claim_amount, dtype: float64"
      ]
     },
     "execution_count": 263,
     "metadata": {},
     "output_type": "execute_result"
    }
   ],
   "source": [
    "x"
   ]
  },
  {
   "cell_type": "code",
   "execution_count": 269,
   "id": "4e2f7a67",
   "metadata": {},
   "outputs": [],
   "source": [
    "import matplotlib.pyplot as plt"
   ]
  },
  {
   "cell_type": "code",
   "execution_count": 276,
   "id": "f7d4d632",
   "metadata": {},
   "outputs": [
    {
     "data": {
      "image/png": "[encoded data removed]",
      "text/plain": [
       "<Figure size 640x480 with 1 Axes>"
      ]
     },
     "metadata": {},
     "output_type": "display_data"
    }
   ],
   "source": [
    "plt.pie(x,labels=x.index,autopct='%2.1f%%')\n",
    "plt.show()"
   ]
  },
  {
   "cell_type": "code",
   "execution_count": 287,
   "id": "3285b4e2",
   "metadata": {},
   "outputs": [],
   "source": [
    "final_data.gender.fillna(final_data.gender.mode()[0],inplace=True)"
   ]
  },
  {
   "cell_type": "code",
   "execution_count": 296,
   "id": "d4d1a92f",
   "metadata": {},
   "outputs": [],
   "source": [
    "y=final_data[final_data.incident_cause.str.upper().str.contains('DRIVER')].groupby(by='gender').total_policy_claims.count()"
   ]
  },
  {
   "cell_type": "code",
   "execution_count": 299,
   "id": "26bc74c8",
   "metadata": {},
   "outputs": [
    {
     "data": {
      "image/png": "[encoded data removed]",
      "text/plain": [
       "<Figure size 400x400 with 1 Axes>"
      ]
     },
     "metadata": {},
     "output_type": "display_data"
    }
   ],
   "source": [
    "y.plot(kind='bar',figsize=(4,4))\n",
    "plt.show()"
   ]
  },
  {
   "cell_type": "code",
   "execution_count": 308,
   "id": "b8c309f0",
   "metadata": {},
   "outputs": [
    {
     "data": {
      "text/plain": [
       "Age_category\n",
       "children      7\n",
       "youth        69\n",
       "adult       111\n",
       "senior        0\n",
       "Name: total_policy_claims, dtype: int64"
      ]
     },
     "execution_count": 308,
     "metadata": {},
     "output_type": "execute_result"
    }
   ],
   "source": [
    "z=final_data[final_data.fraudulent=='Yes'].groupby(by='Age_category').total_policy_claims.count()\n",
    "z"
   ]
  },
  {
   "cell_type": "code",
   "execution_count": 309,
   "id": "8c663ecb",
   "metadata": {},
   "outputs": [
    {
     "data": {
      "image/png": "[encoded data removed]",
      "text/plain": [
       "<Figure size 400x400 with 1 Axes>"
      ]
     },
     "metadata": {},
     "output_type": "display_data"
    }
   ],
   "source": [
    "z.plot(kind='bar',figsize=(4,4))\n",
    "plt.show()"
   ]
  },
  {
   "cell_type": "code",
   "execution_count": 318,
   "id": "3e6042d6",
   "metadata": {},
   "outputs": [],
   "source": [
    "final_data['claim_month']=final_data['claim_date'].dt.strftime('%b')"
   ]
  },
  {
   "cell_type": "code",
   "execution_count": 319,
   "id": "bfa28f1e",
   "metadata": {
    "scrolled": true
   },
   "outputs": [
    {
     "data": {
      "text/html": [
       "<div>\n",
       "<style scoped>\n",
       "    .dataframe tbody tr th:only-of-type {\n",
       "        vertical-align: middle;\n",
       "    }\n",
       "\n",
       "    .dataframe tbody tr th {\n",
       "        vertical-align: top;\n",
       "    }\n",
       "\n",
       "    .dataframe thead th {\n",
       "        text-align: right;\n",
       "    }\n",
       "</style>\n",
       "<table border=\"1\" class=\"dataframe\">\n",
       "  <thead>\n",
       "    <tr style=\"text-align: right;\">\n",
       "      <th></th>\n",
       "      <th>CUST_ID</th>\n",
       "      <th>gender</th>\n",
       "      <th>DateOfBirth</th>\n",
       "      <th>State</th>\n",
       "      <th>Contact</th>\n",
       "      <th>Segment</th>\n",
       "      <th>claim_id</th>\n",
       "      <th>customer_id</th>\n",
       "      <th>incident_cause</th>\n",
       "      <th>claim_date</th>\n",
       "      <th>claim_area</th>\n",
       "      <th>police_report</th>\n",
       "      <th>claim_type</th>\n",
       "      <th>claim_amount</th>\n",
       "      <th>total_policy_claims</th>\n",
       "      <th>fraudulent</th>\n",
       "      <th>Age</th>\n",
       "      <th>Age_category</th>\n",
       "      <th>flag</th>\n",
       "      <th>claim_month</th>\n",
       "    </tr>\n",
       "  </thead>\n",
       "  <tbody>\n",
       "    <tr>\n",
       "      <th>0</th>\n",
       "      <td>21868593.0</td>\n",
       "      <td>Female</td>\n",
       "      <td>1979-01-12</td>\n",
       "      <td>VT</td>\n",
       "      <td>789-916-8172</td>\n",
       "      <td>Platinum</td>\n",
       "      <td>54004764.0</td>\n",
       "      <td>21868593.0</td>\n",
       "      <td>Driver error</td>\n",
       "      <td>2017-11-27</td>\n",
       "      <td>Auto</td>\n",
       "      <td>No</td>\n",
       "      <td>Material only</td>\n",
       "      <td>2980.0</td>\n",
       "      <td>1.0</td>\n",
       "      <td>No</td>\n",
       "      <td>38.0</td>\n",
       "      <td>adult</td>\n",
       "      <td>1.0</td>\n",
       "      <td>Nov</td>\n",
       "    </tr>\n",
       "    <tr>\n",
       "      <th>1</th>\n",
       "      <td>75740424.0</td>\n",
       "      <td>Female</td>\n",
       "      <td>1970-01-13</td>\n",
       "      <td>ME</td>\n",
       "      <td>265-543-1264</td>\n",
       "      <td>Silver</td>\n",
       "      <td>33985796.0</td>\n",
       "      <td>75740424.0</td>\n",
       "      <td>Crime</td>\n",
       "      <td>2018-10-03</td>\n",
       "      <td>Home</td>\n",
       "      <td>Unknown</td>\n",
       "      <td>Material only</td>\n",
       "      <td>2980.0</td>\n",
       "      <td>3.0</td>\n",
       "      <td>No</td>\n",
       "      <td>48.0</td>\n",
       "      <td>adult</td>\n",
       "      <td>NaN</td>\n",
       "      <td>Oct</td>\n",
       "    </tr>\n",
       "  </tbody>\n",
       "</table>\n",
       "</div>"
      ],
      "text/plain": [
       "      CUST_ID  gender DateOfBirth State       Contact   Segment    claim_id  \\\n",
       "0  21868593.0  Female  1979-01-12    VT  789-916-8172  Platinum  54004764.0   \n",
       "1  75740424.0  Female  1970-01-13    ME  265-543-1264    Silver  33985796.0   \n",
       "\n",
       "   customer_id incident_cause claim_date claim_area police_report  \\\n",
       "0   21868593.0   Driver error 2017-11-27       Auto            No   \n",
       "1   75740424.0          Crime 2018-10-03       Home       Unknown   \n",
       "\n",
       "      claim_type  claim_amount  total_policy_claims fraudulent   Age  \\\n",
       "0  Material only        2980.0                  1.0         No  38.0   \n",
       "1  Material only        2980.0                  3.0         No  48.0   \n",
       "\n",
       "  Age_category  flag claim_month  \n",
       "0        adult   1.0         Nov  \n",
       "1        adult   NaN         Oct  "
      ]
     },
     "execution_count": 319,
     "metadata": {},
     "output_type": "execute_result"
    }
   ],
   "source": [
    "final_data.head(2)"
   ]
  },
  {
   "cell_type": "code",
   "execution_count": 344,
   "id": "0129a65f",
   "metadata": {},
   "outputs": [],
   "source": [
    "import calendar"
   ]
  },
  {
   "cell_type": "code",
   "execution_count": 365,
   "id": "8a79fa1c",
   "metadata": {},
   "outputs": [
    {
     "data": {
      "text/html": [
       "<div>\n",
       "<style scoped>\n",
       "    .dataframe tbody tr th:only-of-type {\n",
       "        vertical-align: middle;\n",
       "    }\n",
       "\n",
       "    .dataframe tbody tr th {\n",
       "        vertical-align: top;\n",
       "    }\n",
       "\n",
       "    .dataframe thead th {\n",
       "        text-align: right;\n",
       "    }\n",
       "</style>\n",
       "<table border=\"1\" class=\"dataframe\">\n",
       "  <thead>\n",
       "    <tr style=\"text-align: right;\">\n",
       "      <th></th>\n",
       "      <th>claim_amount</th>\n",
       "    </tr>\n",
       "  </thead>\n",
       "  <tbody>\n",
       "    <tr>\n",
       "      <th>Jan</th>\n",
       "      <td>1.293835e+06</td>\n",
       "    </tr>\n",
       "    <tr>\n",
       "      <th>Feb</th>\n",
       "      <td>9.134069e+05</td>\n",
       "    </tr>\n",
       "    <tr>\n",
       "      <th>Mar</th>\n",
       "      <td>7.256831e+05</td>\n",
       "    </tr>\n",
       "    <tr>\n",
       "      <th>April</th>\n",
       "      <td>1.193379e+06</td>\n",
       "    </tr>\n",
       "    <tr>\n",
       "      <th>May</th>\n",
       "      <td>1.331813e+06</td>\n",
       "    </tr>\n",
       "    <tr>\n",
       "      <th>June</th>\n",
       "      <td>1.382470e+06</td>\n",
       "    </tr>\n",
       "    <tr>\n",
       "      <th>July</th>\n",
       "      <td>1.320222e+06</td>\n",
       "    </tr>\n",
       "    <tr>\n",
       "      <th>Aug</th>\n",
       "      <td>1.348302e+06</td>\n",
       "    </tr>\n",
       "    <tr>\n",
       "      <th>sep</th>\n",
       "      <td>1.115015e+06</td>\n",
       "    </tr>\n",
       "    <tr>\n",
       "      <th>oct</th>\n",
       "      <td>6.259183e+05</td>\n",
       "    </tr>\n",
       "    <tr>\n",
       "      <th>Nov</th>\n",
       "      <td>1.453690e+06</td>\n",
       "    </tr>\n",
       "    <tr>\n",
       "      <th>Dec</th>\n",
       "      <td>9.826043e+05</td>\n",
       "    </tr>\n",
       "  </tbody>\n",
       "</table>\n",
       "</div>"
      ],
      "text/plain": [
       "       claim_amount\n",
       "Jan    1.293835e+06\n",
       "Feb    9.134069e+05\n",
       "Mar    7.256831e+05\n",
       "April  1.193379e+06\n",
       "May    1.331813e+06\n",
       "June   1.382470e+06\n",
       "July   1.320222e+06\n",
       "Aug    1.348302e+06\n",
       "sep    1.115015e+06\n",
       "oct    6.259183e+05\n",
       "Nov    1.453690e+06\n",
       "Dec    9.826043e+05"
      ]
     },
     "execution_count": 365,
     "metadata": {},
     "output_type": "execute_result"
    }
   ],
   "source": [
    "months=list(['Jan','Feb','Mar','April','May','June','July','Aug','sep','oct','Nov','Dec'])\n",
    "Monthly_trend=pd.DataFrame(final_data.groupby(by='claim_month').claim_amount.sum()).set_index([months])\n",
    "Monthly_trend"
   ]
  },
  {
   "cell_type": "code",
   "execution_count": 326,
   "id": "87faeb6a",
   "metadata": {},
   "outputs": [],
   "source": [
    "import seaborn as sns"
   ]
  },
  {
   "cell_type": "code",
   "execution_count": 366,
   "id": "49f93313",
   "metadata": {},
   "outputs": [
    {
     "data": {
      "text/plain": [
       "Text(0.5, 1.0, 'Monthly trend of Claim Amount by Customers')"
      ]
     },
     "execution_count": 366,
     "metadata": {},
     "output_type": "execute_result"
    },
    {
     "data": {
      "image/png": "[encoded data removed]",
      "text/plain": [
       "<Figure size 640x480 with 1 Axes>"
      ]
     },
     "metadata": {},
     "output_type": "display_data"
    }
   ],
   "source": [
    "sns.lineplot(x=Monthly_trend.index,y='claim_amount',data=Monthly_trend)\n",
    "plt.ticklabel_format(style = 'plain',axis='y')\n",
    "plt.title('Monthly trend of Claim Amount by Customers')"
   ]
  },
  {
   "cell_type": "code",
   "execution_count": 375,
   "id": "ad372d38",
   "metadata": {},
   "outputs": [],
   "source": [
    "Grouped_data=final_data.groupby(['Age_category','gender','fraudulent']).claim_amount.mean().round(2).reset_index()"
   ]
  },
  {
   "cell_type": "code",
   "execution_count": 376,
   "id": "878e22f4",
   "metadata": {},
   "outputs": [
    {
     "data": {
      "text/html": [
       "<div>\n",
       "<style scoped>\n",
       "    .dataframe tbody tr th:only-of-type {\n",
       "        vertical-align: middle;\n",
       "    }\n",
       "\n",
       "    .dataframe tbody tr th {\n",
       "        vertical-align: top;\n",
       "    }\n",
       "\n",
       "    .dataframe thead th {\n",
       "        text-align: right;\n",
       "    }\n",
       "</style>\n",
       "<table border=\"1\" class=\"dataframe\">\n",
       "  <thead>\n",
       "    <tr style=\"text-align: right;\">\n",
       "      <th></th>\n",
       "      <th>Age_category</th>\n",
       "      <th>gender</th>\n",
       "      <th>fraudulent</th>\n",
       "      <th>claim_amount</th>\n",
       "    </tr>\n",
       "  </thead>\n",
       "  <tbody>\n",
       "    <tr>\n",
       "      <th>0</th>\n",
       "      <td>children</td>\n",
       "      <td>Female</td>\n",
       "      <td>No</td>\n",
       "      <td>11435.00</td>\n",
       "    </tr>\n",
       "    <tr>\n",
       "      <th>1</th>\n",
       "      <td>children</td>\n",
       "      <td>Female</td>\n",
       "      <td>Yes</td>\n",
       "      <td>2915.25</td>\n",
       "    </tr>\n",
       "    <tr>\n",
       "      <th>2</th>\n",
       "      <td>children</td>\n",
       "      <td>Male</td>\n",
       "      <td>No</td>\n",
       "      <td>13699.38</td>\n",
       "    </tr>\n",
       "    <tr>\n",
       "      <th>3</th>\n",
       "      <td>children</td>\n",
       "      <td>Male</td>\n",
       "      <td>Yes</td>\n",
       "      <td>8045.40</td>\n",
       "    </tr>\n",
       "    <tr>\n",
       "      <th>4</th>\n",
       "      <td>youth</td>\n",
       "      <td>Female</td>\n",
       "      <td>No</td>\n",
       "      <td>12275.47</td>\n",
       "    </tr>\n",
       "    <tr>\n",
       "      <th>5</th>\n",
       "      <td>youth</td>\n",
       "      <td>Female</td>\n",
       "      <td>Yes</td>\n",
       "      <td>8326.20</td>\n",
       "    </tr>\n",
       "    <tr>\n",
       "      <th>6</th>\n",
       "      <td>youth</td>\n",
       "      <td>Male</td>\n",
       "      <td>No</td>\n",
       "      <td>12353.15</td>\n",
       "    </tr>\n",
       "    <tr>\n",
       "      <th>7</th>\n",
       "      <td>youth</td>\n",
       "      <td>Male</td>\n",
       "      <td>Yes</td>\n",
       "      <td>11080.69</td>\n",
       "    </tr>\n",
       "    <tr>\n",
       "      <th>8</th>\n",
       "      <td>adult</td>\n",
       "      <td>Female</td>\n",
       "      <td>No</td>\n",
       "      <td>12530.35</td>\n",
       "    </tr>\n",
       "    <tr>\n",
       "      <th>9</th>\n",
       "      <td>adult</td>\n",
       "      <td>Female</td>\n",
       "      <td>Yes</td>\n",
       "      <td>16299.76</td>\n",
       "    </tr>\n",
       "    <tr>\n",
       "      <th>10</th>\n",
       "      <td>adult</td>\n",
       "      <td>Male</td>\n",
       "      <td>No</td>\n",
       "      <td>12360.27</td>\n",
       "    </tr>\n",
       "    <tr>\n",
       "      <th>11</th>\n",
       "      <td>adult</td>\n",
       "      <td>Male</td>\n",
       "      <td>Yes</td>\n",
       "      <td>17119.87</td>\n",
       "    </tr>\n",
       "    <tr>\n",
       "      <th>12</th>\n",
       "      <td>senior</td>\n",
       "      <td>Female</td>\n",
       "      <td>No</td>\n",
       "      <td>NaN</td>\n",
       "    </tr>\n",
       "    <tr>\n",
       "      <th>13</th>\n",
       "      <td>senior</td>\n",
       "      <td>Female</td>\n",
       "      <td>Yes</td>\n",
       "      <td>NaN</td>\n",
       "    </tr>\n",
       "    <tr>\n",
       "      <th>14</th>\n",
       "      <td>senior</td>\n",
       "      <td>Male</td>\n",
       "      <td>No</td>\n",
       "      <td>NaN</td>\n",
       "    </tr>\n",
       "    <tr>\n",
       "      <th>15</th>\n",
       "      <td>senior</td>\n",
       "      <td>Male</td>\n",
       "      <td>Yes</td>\n",
       "      <td>NaN</td>\n",
       "    </tr>\n",
       "  </tbody>\n",
       "</table>\n",
       "</div>"
      ],
      "text/plain": [
       "   Age_category  gender fraudulent  claim_amount\n",
       "0      children  Female         No      11435.00\n",
       "1      children  Female        Yes       2915.25\n",
       "2      children    Male         No      13699.38\n",
       "3      children    Male        Yes       8045.40\n",
       "4         youth  Female         No      12275.47\n",
       "5         youth  Female        Yes       8326.20\n",
       "6         youth    Male         No      12353.15\n",
       "7         youth    Male        Yes      11080.69\n",
       "8         adult  Female         No      12530.35\n",
       "9         adult  Female        Yes      16299.76\n",
       "10        adult    Male         No      12360.27\n",
       "11        adult    Male        Yes      17119.87\n",
       "12       senior  Female         No           NaN\n",
       "13       senior  Female        Yes           NaN\n",
       "14       senior    Male         No           NaN\n",
       "15       senior    Male        Yes           NaN"
      ]
     },
     "execution_count": 376,
     "metadata": {},
     "output_type": "execute_result"
    }
   ],
   "source": [
    "Grouped_data"
   ]
  },
  {
   "cell_type": "code",
   "execution_count": 389,
   "id": "c007a5aa",
   "metadata": {},
   "outputs": [
    {
     "data": {
      "image/png": "[encoded data removed]",
      "text/plain": [
       "<Figure size 1106.61x500 with 2 Axes>"
      ]
     },
     "metadata": {},
     "output_type": "display_data"
    }
   ],
   "source": [
    "Plot=sns.catplot(x='gender',y='claim_amount',col='fraudulent',data=Grouped_data,hue='Age_category',kind='bar')"
   ]
  },
  {
   "cell_type": "code",
   "execution_count": 406,
   "id": "56ce2ebc",
   "metadata": {
    "scrolled": true
   },
   "outputs": [
    {
     "data": {
      "text/plain": [
       "gender\n",
       "Female    12064.80\n",
       "Male      12793.77\n",
       "Name: claim_amount, dtype: float64"
      ]
     },
     "execution_count": 406,
     "metadata": {},
     "output_type": "execute_result"
    }
   ],
   "source": [
    "claim_gender=final_data.groupby('gender').claim_amount.mean().round(2)\n",
    "claim_gender"
   ]
  },
  {
   "cell_type": "code",
   "execution_count": 82,
   "id": "b271e106",
   "metadata": {},
   "outputs": [],
   "source": [
    "female_claim=final_data.loc[final_data.gender=='Female','claim_amount']\n"
   ]
  },
  {
   "cell_type": "code",
   "execution_count": 83,
   "id": "4b8fb06e",
   "metadata": {},
   "outputs": [],
   "source": [
    "Male_claim=final_data.loc[final_data.gender=='Male','claim_amount']\n"
   ]
  },
  {
   "cell_type": "code",
   "execution_count": 12,
   "id": "514aab42",
   "metadata": {},
   "outputs": [],
   "source": [
    "from scipy import stats"
   ]
  },
  {
   "cell_type": "markdown",
   "id": "888e9e67",
   "metadata": {},
   "source": [
    "Ho= mean of amount claimed by females and males are equal \n",
    "Ha= mean of amount claimed by females and males are not equal \n",
    "At CI= 95% , p value = 0.05 \n",
    "Test = T test "
   ]
  },
  {
   "cell_type": "code",
   "execution_count": 84,
   "id": "451ea15b",
   "metadata": {
    "scrolled": true
   },
   "outputs": [
    {
     "data": {
      "text/plain": [
       "Ttest_indResult(statistic=0.973609831598026, pvalue=0.3304663127330706)"
      ]
     },
     "execution_count": 84,
     "metadata": {},
     "output_type": "execute_result"
    }
   ],
   "source": [
    "stats.ttest_ind(Male_claim,female_claim)"
   ]
  },
  {
   "cell_type": "markdown",
   "id": "dd87cd17",
   "metadata": {},
   "source": [
    "Business Conclusion \n",
    "\n",
    "pvalue 0.3304663127330706 > 0.05 , so here we cannot reject Ho\n",
    "\n",
    "we concude that the means are much likely to be similar"
   ]
  },
  {
   "cell_type": "markdown",
   "id": "4487d2e3",
   "metadata": {},
   "source": [
    "#### since we have to check relationship between two categorical variables,e.g segment and age_category so we will do chi-squared test\n",
    "\n",
    "Ho= There is no significant relationship between segment selection and their age_category\n",
    "Ha= Segment and age_category variables are related to each other\n",
    "At 95% CI ,P-Value=0.05"
   ]
  },
  {
   "cell_type": "code",
   "execution_count": 27,
   "id": "be5b04b5",
   "metadata": {},
   "outputs": [
    {
     "data": {
      "text/html": [
       "<div>\n",
       "<style scoped>\n",
       "    .dataframe tbody tr th:only-of-type {\n",
       "        vertical-align: middle;\n",
       "    }\n",
       "\n",
       "    .dataframe tbody tr th {\n",
       "        vertical-align: top;\n",
       "    }\n",
       "\n",
       "    .dataframe thead th {\n",
       "        text-align: right;\n",
       "    }\n",
       "</style>\n",
       "<table border=\"1\" class=\"dataframe\">\n",
       "  <thead>\n",
       "    <tr style=\"text-align: right;\">\n",
       "      <th>Segment</th>\n",
       "      <th>Gold</th>\n",
       "      <th>Platinum</th>\n",
       "      <th>Silver</th>\n",
       "    </tr>\n",
       "    <tr>\n",
       "      <th>Age_category</th>\n",
       "      <th></th>\n",
       "      <th></th>\n",
       "      <th></th>\n",
       "    </tr>\n",
       "  </thead>\n",
       "  <tbody>\n",
       "    <tr>\n",
       "      <th>children</th>\n",
       "      <td>12</td>\n",
       "      <td>9</td>\n",
       "      <td>12</td>\n",
       "    </tr>\n",
       "    <tr>\n",
       "      <th>youth</th>\n",
       "      <td>109</td>\n",
       "      <td>116</td>\n",
       "      <td>102</td>\n",
       "    </tr>\n",
       "    <tr>\n",
       "      <th>adult</th>\n",
       "      <td>173</td>\n",
       "      <td>154</td>\n",
       "      <td>153</td>\n",
       "    </tr>\n",
       "  </tbody>\n",
       "</table>\n",
       "</div>"
      ],
      "text/plain": [
       "Segment       Gold  Platinum  Silver\n",
       "Age_category                        \n",
       "children        12         9      12\n",
       "youth          109       116     102\n",
       "adult          173       154     153"
      ]
     },
     "execution_count": 27,
     "metadata": {},
     "output_type": "execute_result"
    }
   ],
   "source": [
    "Table=pd.crosstab(index=final_data.Age_category, columns=final_data.Segment)  #### observed frequency table\n",
    "Table"
   ]
  },
  {
   "cell_type": "code",
   "execution_count": 30,
   "id": "848cfcf4",
   "metadata": {},
   "outputs": [
    {
     "data": {
      "text/plain": [
       "(1.7191469720752537,\n",
       " 0.7872366844175828,\n",
       " 4,\n",
       " array([[ 11.55      ,  10.96071429,  10.48928571],\n",
       "        [114.45      , 108.61071429, 103.93928571],\n",
       "        [168.        , 159.42857143, 152.57142857]]))"
      ]
     },
     "execution_count": 30,
     "metadata": {},
     "output_type": "execute_result"
    }
   ],
   "source": [
    "stats.chi2_contingency(Table)"
   ]
  },
  {
   "cell_type": "markdown",
   "id": "bd137503",
   "metadata": {},
   "source": [
    "Rejection rules \n",
    "\n",
    "Since 0.78 > 0.05 , so we cannot reject Ho\n",
    "There are high chances that there is no significant relationship between segment selection and their age_category"
   ]
  },
  {
   "cell_type": "code",
   "execution_count": null,
   "id": "2482205d",
   "metadata": {},
   "outputs": [],
   "source": [
    "Sample = $ 10000\n",
    "#### since we have to compare means of two continuous variable so we will do t-test\n",
    "\n",
    "Ho= There is no significant rise in claim amount as per 2016-17 year | claim_amount_present_year = 10000\n",
    "Ha= There is significant rise in claim amount as per 2016-17 year | claim_amount_present_year=!10000\n",
    "At 95% CI ,P-Value=0.05\n"
   ]
  },
  {
   "cell_type": "code",
   "execution_count": 29,
   "id": "053fb645",
   "metadata": {},
   "outputs": [
    {
     "data": {
      "text/plain": [
       "Ttest_1sampResult(statistic=6.104342377119082, pvalue=1.4263351633589836e-09)"
      ]
     },
     "execution_count": 29,
     "metadata": {},
     "output_type": "execute_result"
    }
   ],
   "source": [
    "stats.ttest_1samp(final_data.claim_amount,10000)"
   ]
  },
  {
   "cell_type": "markdown",
   "id": "24342ad6",
   "metadata": {},
   "source": [
    "Business conclusion\n",
    "\n",
    "pvalue comparison 1.4263351633589836e-09 < 0.05, we reject Ho\n",
    "\n",
    "There is significant rise in claim amount as per 2016-17 year or the claim_Amount for the present year is not equals to 10000\n"
   ]
  },
  {
   "cell_type": "code",
   "execution_count": 72,
   "id": "33c9c4aa",
   "metadata": {},
   "outputs": [
    {
     "data": {
      "text/plain": [
       "adult       480\n",
       "youth       327\n",
       "children     33\n",
       "senior        0\n",
       "Name: Age_category, dtype: int64"
      ]
     },
     "execution_count": 72,
     "metadata": {},
     "output_type": "execute_result"
    }
   ],
   "source": [
    "final_data.Age_category.value_counts()"
   ]
  },
  {
   "cell_type": "code",
   "execution_count": 73,
   "id": "399b2568",
   "metadata": {},
   "outputs": [],
   "source": [
    "X=final_data.loc[final_data.Age_category=='adult','claim_amount']\n"
   ]
  },
  {
   "cell_type": "code",
   "execution_count": 74,
   "id": "a0e62a28",
   "metadata": {},
   "outputs": [],
   "source": [
    "Y=final_data.loc[final_data.Age_category=='youth','claim_amount']\n"
   ]
  },
  {
   "cell_type": "code",
   "execution_count": 75,
   "id": "5129c508",
   "metadata": {},
   "outputs": [],
   "source": [
    "Z=final_data.loc[final_data.Age_category=='children','claim_amount']"
   ]
  },
  {
   "cell_type": "markdown",
   "id": "34f17a6a",
   "metadata": {},
   "source": [
    "Ho=mean of all three Age_category are equal \n",
    "Ha=mean of all three Age_category are  not equal \n",
    "\n",
    "At CI=95%, pvalue=0.05\n",
    "Testing to be done F/Anova Test"
   ]
  },
  {
   "cell_type": "code",
   "execution_count": 76,
   "id": "02f0ec7d",
   "metadata": {
    "scrolled": true
   },
   "outputs": [
    {
     "data": {
      "text/plain": [
       "F_onewayResult(statistic=1.675508169978193, pvalue=0.18784031602301193)"
      ]
     },
     "execution_count": 76,
     "metadata": {},
     "output_type": "execute_result"
    }
   ],
   "source": [
    "stats.f_oneway(X,Y,Z)"
   ]
  },
  {
   "cell_type": "markdown",
   "id": "c10553d8",
   "metadata": {},
   "source": [
    "since 0.187 > 0.05 ,we cannot reject Ho"
   ]
  },
  {
   "cell_type": "markdown",
   "id": "cb89e915",
   "metadata": {},
   "source": [
    "Business Conclusion -\n",
    "\n",
    "The mean of claimed amount by different age categories are approximately same."
   ]
  },
  {
   "cell_type": "code",
   "execution_count": 80,
   "id": "1e170b56",
   "metadata": {},
   "outputs": [
    {
     "data": {
      "text/plain": [
       "8"
      ]
     },
     "execution_count": 80,
     "metadata": {},
     "output_type": "execute_result"
    }
   ],
   "source": [
    "final_data.total_policy_claims.nunique()"
   ]
  },
  {
   "cell_type": "markdown",
   "id": "db44c86b",
   "metadata": {},
   "source": [
    "Ho= There is no relationship between total numbers of policy claimed & claimed amount\n",
    "Ha= Total numbers of policy claimed & claimed amount are related to each other\n",
    "At CI=95%,p-value=0.05\n",
    "Test = since we have one categorical and one continuous variable so we will go with spearmen rank test"
   ]
  },
  {
   "cell_type": "code",
   "execution_count": 81,
   "id": "50182abc",
   "metadata": {},
   "outputs": [
    {
     "data": {
      "text/plain": [
       "SpearmanrResult(correlation=0.0026365065886759043, pvalue=0.9301772224005503)"
      ]
     },
     "execution_count": 81,
     "metadata": {},
     "output_type": "execute_result"
    }
   ],
   "source": [
    "stats.spearmanr(final_data.total_policy_claims,final_data.claim_amount)"
   ]
  },
  {
   "cell_type": "markdown",
   "id": "71ea76ba",
   "metadata": {},
   "source": [
    "Business Conclusion \n",
    "\n",
    "since pvalue , 0.90177 > 0.05 so here we cannot reject Ho\n",
    "There is no relationship between number of poilcy claimed and their amount."
   ]
  }
 ],
 "metadata": {
  "kernelspec": {
   "display_name": "Python 3 (ipykernel)",
   "language": "python",
   "name": "python3"
  },
  "language_info": {
   "codemirror_mode": {
    "name": "ipython",
    "version": 3
   },
   "file_extension": ".py",
   "mimetype": "text/x-python",
   "name": "python",
   "nbconvert_exporter": "python",
   "pygments_lexer": "ipython3",
   "version": "3.9.13"
  }
 },
 "nbformat": 4,
 "nbformat_minor": 5
}
